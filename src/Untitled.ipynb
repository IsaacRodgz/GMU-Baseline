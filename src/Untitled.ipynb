{
 "cells": [
  {
   "cell_type": "code",
   "execution_count": 22,
   "metadata": {},
   "outputs": [],
   "source": [
    "import math\n",
    "import torch\n",
    "from torch import nn\n",
    "import torch.nn.functional as F\n",
    "#from .module import Module\n",
    "\n",
    "\n",
    "class dotdict(dict):\n",
    "    \"\"\"dot.notation access to dictionary attributes\"\"\"\n",
    "    __getattr__ = dict.get\n",
    "    __setattr__ = dict.__setitem__\n",
    "    __delattr__ = dict.__delitem__\n",
    "\n",
    "\n",
    "class GatedMultimodalLayer(nn.Module):\n",
    "    \"\"\" Gated Multimodal Layer based on 'Gated multimodal networks, Arevalo1 et al.' (https://arxiv.org/abs/1702.01992) \"\"\"\n",
    "    def __init__(self, size_in1, size_in2, size_out):\n",
    "        super(GatedMultimodalLayer, self).__init__()\n",
    "        self.size_in1, self.size_in2, self.size_out = size_in1, size_in2, size_out\n",
    "\n",
    "        # Weights hidden state modality 1\n",
    "        weights_hidden1 = torch.Tensor(size_out, size_in1)\n",
    "        self.weights_hidden1 = nn.Parameter(weights_hidden1)\n",
    "        #self.weights_hidden1.requires_grad = True\n",
    "\n",
    "        # Weights hidden state modality 2\n",
    "        weights_hidden2 = torch.Tensor(size_out, size_in2)\n",
    "        self.weights_hidden2 = nn.Parameter(weights_hidden2)\n",
    "        #self.weights_hidden2.requires_grad = True\n",
    "\n",
    "        # Weight for sigmoid\n",
    "        weight_sigmoid = torch.Tensor(size_out*2)\n",
    "        self.weight_sigmoid = nn.Parameter(weight_sigmoid)\n",
    "        #self.weight_sigmoid.requires_grad = True\n",
    "\n",
    "        # initialize weights\n",
    "        nn.init.kaiming_uniform_(self.weights_hidden1, a=math.sqrt(5))\n",
    "        nn.init.kaiming_uniform_(self.weights_hidden2, a=math.sqrt(5))\n",
    "\n",
    "        # Activation functions\n",
    "        self.tanh_f = nn.Tanh()\n",
    "        self.sigmoid_f = nn.Sigmoid()\n",
    "\n",
    "    def forward(self, x1, x2):\n",
    "        h1 = self.tanh_f(torch.mm(x1, self.weights_hidden1.t()))\n",
    "        h2 = self.tanh_f(torch.mm(x2, self.weights_hidden2.t()))\n",
    "        x = torch.cat((h1, h2), dim=1)\n",
    "        z = self.sigmoid_f(torch.matmul(x, self.weight_sigmoid.t()))\n",
    "\n",
    "        return z.view(z.size()[0],1)*h1 + (1-z).view(z.size()[0],1)*h2\n",
    "    \n",
    "    \n",
    "class MaxOut(nn.Module):\n",
    "    def __init__(self, input_dim, output_dim, num_units=2):\n",
    "        super(MaxOut, self).__init__()\n",
    "        self.fc1_list = nn.ModuleList([nn.Linear(input_dim, output_dim) for i in range(num_units)])\n",
    "\n",
    "    def forward(self, x): \n",
    "\n",
    "        return self.maxout(x, self.fc1_list)\n",
    "\n",
    "    def maxout(self, x, layer_list):\n",
    "        max_output = layer_list[0](x)\n",
    "        for _, layer in enumerate(layer_list, start=1):\n",
    "            max_output = torch.max(max_output, layer(x))\n",
    "        return max_output\n",
    "\n",
    "\n",
    "class MLPGenreClassifierModel(nn.Module):\n",
    "\n",
    "    def __init__(self, hyp_params):\n",
    "\n",
    "        super(MLPGenreClassifierModel, self).__init__()\n",
    "        if hyp_params.text_embedding_size == hyp_params.image_feature_size:\n",
    "            self.bn1 = nn.BatchNorm1d(hyp_params.hidden_size)\n",
    "            self.linear1 = MaxOut(hyp_params.hidden_size, hyp_params.hidden_size)\n",
    "        else:\n",
    "            self.bn1 = nn.BatchNorm1d(hyp_params.text_embedding_size+hyp_params.image_feature_size)\n",
    "            self.linear1 = MaxOut(hyp_params.text_embedding_size+hyp_params.image_feature_size, hyp_params.hidden_size)\n",
    "        self.drop1 = nn.Dropout(p=hyp_params.mlp_dropout)\n",
    "        \n",
    "        self.bn2 = nn.BatchNorm1d(hyp_params.hidden_size)\n",
    "        self.linear2 = MaxOut(hyp_params.hidden_size, hyp_params.hidden_size)\n",
    "        self.drop2 = nn.Dropout(p=hyp_params.mlp_dropout)\n",
    "        \n",
    "        self.bn3 = nn.BatchNorm1d(hyp_params.hidden_size)\n",
    "        self.linear3 = nn.Linear(hyp_params.hidden_size, hyp_params.output_dim)\n",
    "        self.sigmoid = nn.Sigmoid()\n",
    "\n",
    "    def forward(self, input_ids, feature_images=None):\n",
    "        if feature_images is None:\n",
    "            x = input_ids\n",
    "        else:\n",
    "            x = torch.cat((input_ids, feature_images), dim=1)\n",
    "        x = self.bn1(x)\n",
    "        x = self.linear1(x)\n",
    "        x = self.drop1(x)\n",
    "        x = self.bn2(x)\n",
    "        x = self.linear2(x)\n",
    "        x = self.drop2(x)\n",
    "        x = self.bn3(x)\n",
    "        x = self.linear3(x)\n",
    "\n",
    "        return self.sigmoid(x)\n",
    "    \n",
    "\n",
    "class ConcatenateModel(nn.Module):\n",
    "\n",
    "    def __init__(self, hyp_params):\n",
    "\n",
    "        super(ConcatenateModel, self).__init__()\n",
    "        self.linear1 = MaxOut(hyp_params.text_embedding_size+hyp_params.image_feature_size, hyp_params.hidden_size)\n",
    "        self.bn1 = nn.BatchNorm1d(hyp_params.hidden_size)\n",
    "        self.drop1 = nn.Dropout(p=hyp_params.mlp_dropout)\n",
    "\n",
    "        self.linear2 = MaxOut(hyp_params.hidden_size, hyp_params.hidden_size)\n",
    "        self.bn2 = nn.BatchNorm1d(hyp_params.hidden_size)\n",
    "        self.drop2 = nn.Dropout(p=hyp_params.mlp_dropout)\n",
    "        \n",
    "        self.linear3 = nn.Linear(hyp_params.hidden_size, hyp_params.output_dim)\n",
    "        self.sigmoid = nn.Sigmoid()\n",
    "\n",
    "    def forward(self, input_ids, feature_images):\n",
    "        \n",
    "        x = torch.cat((input_ids, feature_images), dim=1)\n",
    "        x = self.drop1(x)\n",
    "        x = self.linear1(x)\n",
    "        x = self.bn1(x)\n",
    "        x = self.drop2(x)\n",
    "        x = self.linear2(x)\n",
    "        x = self.bn2(x)\n",
    "        x = self.linear3(x)\n",
    "\n",
    "        return self.sigmoid(x)\n",
    "    \n",
    "    \n",
    "class GMUModel(nn.Module):\n",
    "\n",
    "    def __init__(self, hyp_params):\n",
    "\n",
    "        super(GMUModel, self).__init__()\n",
    "        self.hyp_params = {}\n",
    "        self.hyp_params['text_embedding_size'] = hyp_params.hidden_size\n",
    "        self.hyp_params['image_feature_size'] = hyp_params.hidden_size\n",
    "        self.hyp_params['hidden_size'] = hyp_params.hidden_size\n",
    "        self.hyp_params['output_dim'] = hyp_params.output_dim\n",
    "        self.hyp_params['mlp_dropout'] = hyp_params.mlp_dropout\n",
    "        self.hyp_params = dotdict(self.hyp_params)\n",
    "        \n",
    "        self.visual_mlp = torch.nn.Sequential(\n",
    "            nn.BatchNorm1d(hyp_params.image_feature_size),\n",
    "            nn.Linear(hyp_params.image_feature_size, hyp_params.hidden_size)\n",
    "        )\n",
    "        self.textual_mlp = torch.nn.Sequential(\n",
    "            nn.BatchNorm1d(hyp_params.text_embedding_size),\n",
    "            nn.Linear(hyp_params.text_embedding_size, hyp_params.hidden_size)\n",
    "        )\n",
    "        \n",
    "        self.gmu = GatedMultimodalLayer(hyp_params.hidden_size, hyp_params.hidden_size, hyp_params.hidden_size)\n",
    "        \n",
    "        self.logistic_mlp = MLPGenreClassifierModel(self.hyp_params)\n",
    "\n",
    "    def forward(self, input_ids, feature_images):\n",
    "        \n",
    "        x_v = self.visual_mlp(feature_images)\n",
    "        x_t = self.textual_mlp(input_ids)\n",
    "        x = self.gmu(x_v, x_t)\n",
    "        \n",
    "\n",
    "        return self.logistic_mlp(x)\n"
   ]
  },
  {
   "cell_type": "code",
   "execution_count": 18,
   "metadata": {},
   "outputs": [],
   "source": [
    "linear = nn.Linear(10, 10)"
   ]
  },
  {
   "cell_type": "code",
   "execution_count": 19,
   "metadata": {},
   "outputs": [
    {
     "name": "stdout",
     "output_type": "stream",
     "text": [
      "Linear(in_features=10, out_features=10, bias=True)\n"
     ]
    }
   ],
   "source": [
    "print(linear)"
   ]
  },
  {
   "cell_type": "code",
   "execution_count": 5,
   "metadata": {},
   "outputs": [],
   "source": [
    "gmu = GatedMultimodalLayer(10, 10, 10)"
   ]
  },
  {
   "cell_type": "code",
   "execution_count": 6,
   "metadata": {},
   "outputs": [
    {
     "data": {
      "text/plain": [
       "GatedMultimodalLayer(\n",
       "  (tanh_f): Tanh()\n",
       "  (sigmoid_f): Sigmoid()\n",
       ")"
      ]
     },
     "execution_count": 6,
     "metadata": {},
     "output_type": "execute_result"
    }
   ],
   "source": [
    "gmu"
   ]
  },
  {
   "cell_type": "code",
   "execution_count": 11,
   "metadata": {},
   "outputs": [],
   "source": [
    "from torchviz import make_dot"
   ]
  },
  {
   "cell_type": "code",
   "execution_count": 23,
   "metadata": {},
   "outputs": [],
   "source": [
    "y = gmu(torch.rand(1,10), torch.rand(1,10))"
   ]
  },
  {
   "cell_type": "code",
   "execution_count": 25,
   "metadata": {},
   "outputs": [],
   "source": [
    "y = linear(torch.rand(1,10))"
   ]
  },
  {
   "cell_type": "code",
   "execution_count": 26,
   "metadata": {},
   "outputs": [
    {
     "data": {
      "text/plain": [
       "'attachedLinear.png'"
      ]
     },
     "execution_count": 26,
     "metadata": {},
     "output_type": "execute_result"
    }
   ],
   "source": [
    "make_dot(y).render(\"attached\", format=\"png\")"
   ]
  }
 ],
 "metadata": {
  "kernelspec": {
   "display_name": "Python 3",
   "language": "python",
   "name": "python3"
  },
  "language_info": {
   "codemirror_mode": {
    "name": "ipython",
    "version": 3
   },
   "file_extension": ".py",
   "mimetype": "text/x-python",
   "name": "python",
   "nbconvert_exporter": "python",
   "pygments_lexer": "ipython3",
   "version": "3.7.6"
  }
 },
 "nbformat": 4,
 "nbformat_minor": 4
}
